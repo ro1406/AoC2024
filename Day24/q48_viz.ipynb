{
 "cells": [
  {
   "cell_type": "code",
   "execution_count": null,
   "metadata": {},
   "outputs": [
    {
     "name": "stdout",
     "output_type": "stream",
     "text": [
      "[('x00', 'rdm', 'AND'), ('x00', 'z00', 'XOR'), ('x01', 'bck', 'XOR'), ('x01', 'cjr', 'AND'), ('x02', 'hfd', 'AND'), ('x02', 'vjh', 'XOR'), ('x03', 'jqs', 'XOR'), ('x03', 'nmv', 'AND'), ('x04', 'fkr', 'XOR'), ('x04', 'wgc', 'AND'), ('x05', 'ptv', 'AND'), ('x05', 'tgc', 'XOR'), ('x06', 'jnt', 'AND'), ('x06', 'vkd', 'XOR'), ('x07', 'pns', 'XOR'), ('x07', 'tsr', 'AND'), ('x08', 'rmf', 'AND'), ('x08', 'tpb', 'XOR'), ('x09', 'hwc', 'AND'), ('x09', 'wvp', 'XOR'), ('x10', 'rnj', 'AND'), ('x10', 'vms', 'XOR'), ('x11', 'ghk', 'AND'), ('x11', 'nmm', 'XOR'), ('x12', 'sfq', 'XOR'), ('x12', 'tcd', 'AND'), ('x13', 'fpf', 'AND'), ('x13', 'scq', 'XOR'), ('x14', 'ctf', 'AND'), ('x14', 'ghf', 'XOR'), ('x15', 'prg', 'XOR'), ('x15', 'rtq', 'AND'), ('x16', 'kbq', 'AND'), ('x16', 'pvn', 'XOR'), ('x17', 'cwj', 'XOR'), ('x17', 'qch', 'AND'), ('x18', 'gnf', 'AND'), ('x18', 'nrv', 'XOR'), ('x19', 'dnq', 'XOR'), ('x19', 'sqv', 'AND'), ('x20', 'kgm', 'XOR'), ('x20', 'vgd', 'AND'), ('x21', 'gsd', 'AND'), ('x21', 'tvs', 'XOR'), ('x22', 'dds', 'XOR'), ('x22', 'qnd', 'AND'), ('x23', 'ggt', 'AND'), ('x23', 'mwh', 'XOR'), ('x24', 'qrh', 'XOR'), ('x24', 'wrp', 'AND'), ('x25', 'qjh', 'AND'), ('x25', 'vgk', 'XOR'), ('x26', 'jtr', 'AND'), ('x26', 'tbj', 'XOR'), ('x27', 'dbk', 'AND'), ('x27', 'kgg', 'XOR'), ('x28', 'cnw', 'AND'), ('x28', 'rqt', 'XOR'), ('x29', 'grc', 'XOR'), ('x29', 'jdd', 'AND'), ('x30', 'ftr', 'XOR'), ('x30', 'sjd', 'AND'), ('x31', 'bcb', 'XOR'), ('x31', 'kkq', 'AND'), ('x32', 'fhf', 'XOR'), ('x32', 'fsh', 'AND'), ('x33', 'dgb', 'AND'), ('x33', 'kvq', 'XOR'), ('x34', 'fhv', 'AND'), ('x34', 'mbr', 'XOR'), ('x35', 'bhv', 'XOR'), ('x35', 'z35', 'AND'), ('x36', 'jjs', 'XOR'), ('x36', 'mmd', 'AND'), ('x37', 'hmp', 'XOR'), ('x37', 'npc', 'AND'), ('x38', 'rgq', 'AND'), ('x38', 'wfs', 'XOR'), ('x39', 'hrf', 'XOR'), ('x39', 'prq', 'AND'), ('x40', 'hkg', 'XOR'), ('x40', 'ktm', 'AND'), ('x41', 'fjp', 'AND'), ('x41', 'jvt', 'XOR'), ('x42', 'gwf', 'AND'), ('x42', 'hgv', 'XOR'), ('x43', 'ftw', 'AND'), ('x43', 'kfb', 'XOR'), ('x44', 'cdk', 'AND'), ('x44', 'dfp', 'XOR'), ('y00', 'rdm', 'AND'), ('y00', 'z00', 'XOR'), ('y01', 'bck', 'XOR'), ('y01', 'cjr', 'AND'), ('y02', 'hfd', 'AND'), ('y02', 'vjh', 'XOR'), ('y03', 'jqs', 'XOR'), ('y03', 'nmv', 'AND'), ('y04', 'fkr', 'XOR'), ('y04', 'wgc', 'AND'), ('y05', 'ptv', 'AND'), ('y05', 'tgc', 'XOR'), ('y06', 'jnt', 'AND'), ('y06', 'vkd', 'XOR'), ('y07', 'pns', 'XOR'), ('y07', 'tsr', 'AND'), ('y08', 'rmf', 'AND'), ('y08', 'tpb', 'XOR'), ('y09', 'hwc', 'AND'), ('y09', 'wvp', 'XOR'), ('y10', 'rnj', 'AND'), ('y10', 'vms', 'XOR'), ('y11', 'ghk', 'AND'), ('y11', 'nmm', 'XOR'), ('y12', 'sfq', 'XOR'), ('y12', 'tcd', 'AND'), ('y13', 'fpf', 'AND'), ('y13', 'scq', 'XOR'), ('y14', 'ctf', 'AND'), ('y14', 'ghf', 'XOR'), ('y15', 'prg', 'XOR'), ('y15', 'rtq', 'AND'), ('y16', 'kbq', 'AND'), ('y16', 'pvn', 'XOR'), ('y17', 'cwj', 'XOR'), ('y17', 'qch', 'AND'), ('y18', 'gnf', 'AND'), ('y18', 'nrv', 'XOR'), ('y19', 'dnq', 'XOR'), ('y19', 'sqv', 'AND'), ('y20', 'kgm', 'XOR'), ('y20', 'vgd', 'AND'), ('y21', 'gsd', 'AND'), ('y21', 'tvs', 'XOR'), ('y22', 'dds', 'XOR'), ('y22', 'qnd', 'AND'), ('y23', 'ggt', 'AND'), ('y23', 'mwh', 'XOR'), ('y24', 'qrh', 'XOR'), ('y24', 'wrp', 'AND'), ('y25', 'qjh', 'AND'), ('y25', 'vgk', 'XOR'), ('y26', 'jtr', 'AND'), ('y26', 'tbj', 'XOR'), ('y27', 'dbk', 'AND'), ('y27', 'kgg', 'XOR'), ('y28', 'cnw', 'AND'), ('y28', 'rqt', 'XOR'), ('y29', 'grc', 'XOR'), ('y29', 'jdd', 'AND'), ('y30', 'ftr', 'XOR'), ('y30', 'sjd', 'AND'), ('y31', 'bcb', 'XOR'), ('y31', 'kkq', 'AND'), ('y32', 'fhf', 'XOR'), ('y32', 'fsh', 'AND'), ('y33', 'dgb', 'AND'), ('y33', 'kvq', 'XOR'), ('y34', 'fhv', 'AND'), ('y34', 'mbr', 'XOR'), ('y35', 'bhv', 'XOR'), ('y35', 'z35', 'AND'), ('y36', 'jjs', 'XOR'), ('y36', 'mmd', 'AND'), ('y37', 'hmp', 'XOR'), ('y37', 'npc', 'AND'), ('y38', 'rgq', 'AND'), ('y38', 'wfs', 'XOR'), ('y39', 'hrf', 'XOR'), ('y39', 'prq', 'AND'), ('y40', 'hkg', 'XOR'), ('y40', 'ktm', 'AND'), ('y41', 'fjp', 'AND'), ('y41', 'jvt', 'XOR'), ('y42', 'gwf', 'AND'), ('y42', 'hgv', 'XOR'), ('y43', 'ftw', 'AND'), ('y43', 'kfb', 'XOR'), ('y44', 'cdk', 'AND'), ('y44', 'dfp', 'XOR'), ('bcb', 'z31', 'XOR'), ('bcb', 'vvs', 'AND'), ('bck', 'z01', 'XOR'), ('bck', 'dsn', 'AND'), ('bhv', 'hqk', 'XOR'), ('bhv', 'bvg', 'AND'), ('bmn', 'qpp', 'OR'), ('bmp', 'z31', 'XOR'), ('bmp', 'vvs', 'AND'), ('btb', 'z33', 'XOR'), ('btb', 'cgn', 'AND'), ('bvg', 'cfp', 'OR'), ('bwq', 'cgr', 'OR'), ('cdk', 'z45', 'OR'), ('cff', 'kwj', 'OR'), ('cfp', 'z36', 'XOR'), ('cfp', 'krr', 'AND'), ('cgn', 'wbd', 'OR'), ('cgr', 'z28', 'XOR'), ('cgr', 'mph', 'AND'), ('cjr', 'rpn', 'OR'), ('ckv', 'vrf', 'AND'), ('ckv', 'z42', 'XOR'), ('cmv', 'kjh', 'OR'), ('cnw', 'whw', 'OR'), ('crn', 'qkm', 'AND'), ('crn', 'z12', 'XOR'), ('ctf', 'kvn', 'OR'), ('cvj', 'rvd', 'OR'), ('cwj', 'z17', 'XOR'), ('cwj', 'cmv', 'AND'), ('dbk', 'cgr', 'OR'), ('dbr', 'rgt', 'OR'), ('dds', 'z22', 'XOR'), ('dds', 'vnb', 'AND'), ('dfp', 'mks', 'AND'), ('dfp', 'z44', 'XOR'), ('dgb', 'wbd', 'OR'), ('dgm', 'kvn', 'OR'), ('dgv', 'sjq', 'OR'), ('dhb', 'z37', 'XOR'), ('dhb', 'rmm', 'AND'), ('dnq', 'z19', 'XOR'), ('dnq', 'wmm', 'AND'), ('dsn', 'rpn', 'OR'), ('dtm', 'rkj', 'AND'), ('dtm', 'z21', 'XOR'), ('dtr', 'jrg', 'OR'), ('fhc', 'dbr', 'AND'), ('fhc', 'z07', 'XOR'), ('fhf', 'vcd', 'AND'), ('fhf', 'z32', 'XOR'), ('fhv', 'kwj', 'OR'), ('fjp', 'ckv', 'OR'), ('fkr', 'ggp', 'AND'), ('fkr', 'z04', 'XOR'), ('fpf', 'rvj', 'OR'), ('fsb', 'htt', 'OR'), ('fsh', 'btb', 'OR'), ('ftg', 'pdp', 'AND'), ('ftg', 'z23', 'XOR'), ('ftr', 'z30', 'XOR'), ('ftr', 'qhr', 'AND'), ('ftw', 'rvd', 'OR'), ('gdb', 'z05', 'XOR'), ('gdb', 'pws', 'AND'), ('ggp', 'gdb', 'OR'), ('ggt', 'pdp', 'AND'), ('ggt', 'z23', 'XOR'), ('ghf', 'dgm', 'AND'), ('ghf', 'z14', 'XOR'), ('ghk', 'crn', 'OR'), ('gjb', 'rpv', 'OR'), ('gnf', 'rpv', 'OR'), ('gnk', 'tmp', 'OR'), ('grc', 'spr', 'AND'), ('grc', 'z29', 'XOR'), ('gsd', 'ppm', 'OR'), ('gvs', 'z17', 'XOR'), ('gvs', 'cmv', 'AND'), ('gwf', 'nkh', 'OR'), ('hfd', 'qpp', 'OR'), ('hgv', 'vrf', 'AND'), ('hgv', 'z42', 'XOR'), ('hkg', 'fsb', 'AND'), ('hkg', 'z40', 'XOR'), ('hkj', 'ckv', 'OR'), ('hmp', 'z37', 'XOR'), ('hmp', 'rmm', 'AND'), ('hqk', 'cfp', 'OR'), ('hrf', 'z39', 'XOR'), ('hrf', 'jkn', 'AND'), ('hsn', 'rnc', 'OR'), ('htt', 'hkj', 'AND'), ('htt', 'z41', 'XOR'), ('hwc', 'rnc', 'OR'), ('jdd', 'mqt', 'OR'), ('jjs', 'z36', 'XOR'), ('jjs', 'krr', 'AND'), ('jkn', 'mtb', 'OR'), ('jnt', 'z06', 'OR'), ('jqs', 'shn', 'AND'), ('jqs', 'z03', 'XOR'), ('jrg', 'bwq', 'AND'), ('jrg', 'z27', 'XOR'), ('jrh', 'rmd', 'OR'), ('jtr', 'jrg', 'OR'), ('jvt', 'hkj', 'AND'), ('jvt', 'z41', 'XOR'), ('kbq', 'gvs', 'OR'), ('kfb', 'cvj', 'AND'), ('kfb', 'z43', 'XOR'), ('kgg', 'bwq', 'AND'), ('kgg', 'z27', 'XOR'), ('kgm', 'qfr', 'AND'), ('kgm', 'z20', 'XOR'), ('kjh', 'gjb', 'AND'), ('kjh', 'z18', 'XOR'), ('kkq', 'trb', 'OR'), ('krr', 'dhb', 'OR'), ('ktm', 'htt', 'OR'), ('kvn', 'z15', 'XOR'), ('kvn', 'gnk', 'AND'), ('kvq', 'z33', 'XOR'), ('kvq', 'cgn', 'AND'), ('kwj', 'hqk', 'XOR'), ('kwj', 'bvg', 'AND'), ('mbg', 'z24', 'XOR'), ('mbg', 'dgv', 'AND'), ('mbr', 'z34', 'XOR'), ('mbr', 'cff', 'AND'), ('mks', 'z45', 'OR'), ('mmd', 'dhb', 'OR'), ('mph', 'whw', 'OR'), ('mqt', 'z30', 'XOR'), ('mqt', 'qhr', 'AND'), ('msm', 'z26', 'XOR'), ('msm', 'dtr', 'AND'), ('mtb', 'fsb', 'AND'), ('mtb', 'z40', 'XOR'), ('mwg', 'z39', 'XOR'), ('mwg', 'jkn', 'AND'), ('mwh', 'mbg', 'OR'), ('mwn', 'qfr', 'AND'), ('mwn', 'z20', 'XOR'), ('nkh', 'cvj', 'AND'), ('nkh', 'z43', 'XOR'), ('nmm', 'z11', 'AND'), ('nmm', 'qhj', 'XOR'), ('nmv', 'pvg', 'OR'), ('npc', 'sdm', 'OR'), ('nrv', 'gjb', 'AND'), ('nrv', 'z18', 'XOR'), ('pck', 'hsn', 'AND'), ('pck', 'z09', 'XOR'), ('pdp', 'mbg', 'OR'), ('phq', 'gvs', 'OR'), ('pns', 'dbr', 'AND'), ('pns', 'z07', 'XOR'), ('ppm', 'z22', 'XOR'), ('ppm', 'vnb', 'AND'), ('prg', 'z15', 'XOR'), ('prg', 'gnk', 'AND'), ('prq', 'mtb', 'OR'), ('ptv', 'scp', 'OR'), ('pvg', 'ggp', 'AND'), ('pvg', 'z04', 'XOR'), ('pvn', 'phq', 'AND'), ('pvn', 'z16', 'XOR'), ('pws', 'scp', 'OR'), ('qch', 'kjh', 'OR'), ('qfr', 'dtm', 'OR'), ('qhj', 'crn', 'OR'), ('qhr', 'bmp', 'OR'), ('qjh', 'msm', 'OR'), ('qkm', 'qwd', 'OR'), ('qnd', 'ftg', 'OR'), ('qns', 'msm', 'OR'), ('qpp', 'shn', 'AND'), ('qpp', 'z03', 'XOR'), ('qrh', 'z24', 'XOR'), ('qrh', 'dgv', 'AND'), ('qwd', 'z13', 'XOR'), ('qwd', 'wpp', 'AND'), ('rdm', 'z01', 'XOR'), ('rdm', 'dsn', 'AND'), ('rfb', 'mwg', 'OR'), ('rgq', 'mwg', 'OR'), ('rgt', 'wvn', 'AND'), ('rgt', 'z08', 'XOR'), ('rkj', 'ppm', 'OR'), ('rmd', 'z11', 'AND'), ('rmd', 'qhj', 'XOR'), ('rmf', 'pck', 'OR'), ('rmm', 'sdm', 'OR'), ('rnc', 'z10', 'XOR'), ('rnc', 'jrh', 'AND'), ('rnj', 'rmd', 'OR'), ('rpn', 'bmn', 'AND'), ('rpn', 'z02', 'XOR'), ('rpv', 'z19', 'XOR'), ('rpv', 'wmm', 'AND'), ('rqt', 'z28', 'XOR'), ('rqt', 'mph', 'AND'), ('rtq', 'tmp', 'OR'), ('rvd', 'mks', 'AND'), ('rvd', 'z44', 'XOR'), ('rvj', 'dgm', 'AND'), ('rvj', 'z14', 'XOR'), ('scp', 'vsv', 'AND'), ('scp', 'fhc', 'XOR'), ('scq', 'z13', 'XOR'), ('scq', 'wpp', 'AND'), ('sdm', 'z38', 'XOR'), ('sdm', 'rfb', 'AND'), ('sfq', 'qkm', 'AND'), ('sfq', 'z12', 'XOR'), ('shn', 'pvg', 'OR'), ('sjd', 'bmp', 'OR'), ('sjq', 'z25', 'XOR'), ('sjq', 'qns', 'AND'), ('spr', 'mqt', 'OR'), ('sqv', 'mwn', 'OR'), ('tbj', 'z26', 'XOR'), ('tbj', 'dtr', 'AND'), ('tcd', 'qwd', 'OR'), ('tgc', 'z05', 'XOR'), ('tgc', 'pws', 'AND'), ('tmp', 'phq', 'AND'), ('tmp', 'z16', 'XOR'), ('tpb', 'wvn', 'AND'), ('tpb', 'z08', 'XOR'), ('trb', 'vcd', 'AND'), ('trb', 'z32', 'XOR'), ('tsr', 'rgt', 'OR'), ('tvs', 'rkj', 'AND'), ('tvs', 'z21', 'XOR'), ('vcd', 'btb', 'OR'), ('vgd', 'dtm', 'OR'), ('vgk', 'z25', 'XOR'), ('vgk', 'qns', 'AND'), ('vjh', 'bmn', 'AND'), ('vjh', 'z02', 'XOR'), ('vkd', 'vsv', 'AND'), ('vkd', 'fhc', 'XOR'), ('vms', 'z10', 'XOR'), ('vms', 'jrh', 'AND'), ('vnb', 'ftg', 'OR'), ('vrf', 'nkh', 'OR'), ('vsv', 'z06', 'OR'), ('vvs', 'trb', 'OR'), ('wbd', 'z34', 'XOR'), ('wbd', 'cff', 'AND'), ('wfs', 'z38', 'XOR'), ('wfs', 'rfb', 'AND'), ('wgc', 'gdb', 'OR'), ('whw', 'spr', 'AND'), ('whw', 'z29', 'XOR'), ('wmm', 'mwn', 'OR'), ('wpp', 'rvj', 'OR'), ('wrp', 'sjq', 'OR'), ('wvn', 'pck', 'OR'), ('wvp', 'hsn', 'AND'), ('wvp', 'z09', 'XOR')]\n"
     ]
    },
    {
     "name": "stderr",
     "output_type": "stream",
     "text": [
      "/var/folders/q2/m99dysws3955rgckfwjq30940000gp/T/ipykernel_48505/930707885.py:64: UserWarning: Matplotlib is currently using agg, which is a non-GUI backend, so cannot show the figure.\n",
      "  plt.show()\n"
     ]
    }
   ],
   "source": [
    "import networkx as nx\n",
    "import matplotlib.pyplot as plt\n",
    "from networkx.drawing.nx_agraph import to_agraph\n",
    "import re\n",
    "\n",
    "read_inputs=True\n",
    "edges=[]\n",
    "with open(\"input.txt\", \"r\") as f:\n",
    "    for line in f.readlines():\n",
    "        if line == \"\\n\":\n",
    "            read_inputs = False\n",
    "            continue\n",
    "        if not read_inputs:\n",
    "            pattern = r\"((?:[a-zA-Z0-9]{1,3})(?:\\d{0,2})) (AND|XOR|OR) ((?:[a-zA-Z0-9]{1,3})(?:\\d{0,2})) -> ((?:[a-zA-Z0-9]{1,3})(?:\\d{0,2}))\"\n",
    "            matches = re.findall(pattern, line)\n",
    "            v1, op, v2, res = matches[0]\n",
    "            edges.append((v1, res,op))\n",
    "            edges.append((v2, res,op))\n",
    "\n",
    "#Sort edges and put the x,y,z first so it comes nicely in the vizualization\n",
    "edges.sort(key=lambda x:x[0])\n",
    "edges = list(sorted([x for x in edges if x[0].startswith('x') or x[0].startswith('y') or x[0].startswith('z')])) +\\\n",
    "    [x for x in edges if not(x[0].startswith('x') or x[0].startswith('y') or x[0].startswith('z'))]\n",
    "print(edges)\n",
    "\n",
    "G = nx.DiGraph()\n",
    "\n",
    "# Add edges with operation labels\n",
    "for src, dest, op in edges:\n",
    "    G.add_edge(src, dest, operation=op)\n",
    "# Define a mapping for node colors\n",
    "node_colors = {}\n",
    "for node in G.nodes:\n",
    "    if node.startswith(\"x\"):\n",
    "        node_colors[node] = \"red\"\n",
    "    elif node.startswith(\"y\"):\n",
    "        node_colors[node] = \"blue\"\n",
    "    elif node.startswith(\"z\"):\n",
    "        node_colors[node] = \"green\"\n",
    "    else:\n",
    "        node_colors[node] = \"lightgray\"  # Default color for other nodes\n",
    "\n",
    "# Convert to a Graphviz AGraph for better layout control\n",
    "A = to_agraph(G)\n",
    "\n",
    "# Configure layout properties for better separation\n",
    "A.graph_attr.update(rankdir=\"TB\", ranksep=\"1.5\", nodesep=\"1.0\")  # Top-to-bottom layout, increased spacing\n",
    "for src, dest, data in G.edges(data=True):\n",
    "    A.get_edge(src, dest).attr[\"label\"] = data[\"operation\"]\n",
    "\n",
    "# Apply node colors in the Graphviz representation\n",
    "for node, color in node_colors.items():\n",
    "    A.get_node(node).attr[\"color\"] = color\n",
    "    A.get_node(node).attr[\"style\"] = \"filled\"\n",
    "    A.get_node(node).attr[\"fillcolor\"] = color\n",
    "\n",
    "# Draw the graph\n",
    "plt.figure(figsize=(14, 10))\n",
    "A.draw(\"colored_layered_graph.png\", format=\"png\", prog=\"dot\")  # Save the graph as an image\n",
    "img = plt.imread(\"colored_layered_graph.png\")\n",
    "plt.imshow(img)\n",
    "plt.axis(\"off\")  # Hide axes\n",
    "plt.show()"
   ]
  },
  {
   "cell_type": "code",
   "execution_count": 21,
   "metadata": {},
   "outputs": [
    {
     "name": "stdout",
     "output_type": "stream",
     "text": [
      "fhc,ggt,hqk,mwh,qhj,z06,z11,z35\n"
     ]
    }
   ],
   "source": [
    "# Z should have XOR before it\n",
    "ans=['z06','z11','z35','fhc','qhj','hqk']\n",
    "\n",
    "#Manually checking if full adder logic works. Found X23 and Y23 XOR and AND results swapped\n",
    "#Checked z20-z29 range first cause we already had faults in z06, z11, and z35\n",
    "ans+=['ggt','mwh']\n",
    "print(','.join(list(sorted(ans))))"
   ]
  },
  {
   "cell_type": "code",
   "execution_count": null,
   "metadata": {},
   "outputs": [],
   "source": [
    "\"\"\"\n",
    "Author: Rohan Mitra (rohan.mitra@dubizzle.com)\n",
    "q48_viz.ipynb (c) 2024\n",
    "Desc: description\n",
    "Created:  2024-12-24T20:44:27.288Z\n",
    "Modified: !date!\n",
    "\"\"\"\n",
    "\n"
   ]
  }
 ],
 "metadata": {
  "kernelspec": {
   "display_name": "base",
   "language": "python",
   "name": "python3"
  },
  "language_info": {
   "codemirror_mode": {
    "name": "ipython",
    "version": 3
   },
   "file_extension": ".py",
   "mimetype": "text/x-python",
   "name": "python",
   "nbconvert_exporter": "python",
   "pygments_lexer": "ipython3",
   "version": "3.11.0"
  }
 },
 "nbformat": 4,
 "nbformat_minor": 2
}
